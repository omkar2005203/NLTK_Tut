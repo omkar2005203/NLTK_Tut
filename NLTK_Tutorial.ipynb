{
 "cells": [
  {
   "cell_type": "markdown",
   "metadata": {},
   "source": [
    "#  Natural Language Toolkit (NLTK)\n"
   ]
  },
  {
   "cell_type": "markdown",
   "metadata": {},
   "source": [
    "## 01 Reading Files"
   ]
  },
  {
   "cell_type": "code",
   "execution_count": 10,
   "metadata": {
    "scrolled": true
   },
   "outputs": [
    {
     "name": "stdout",
     "output_type": "stream",
     "text": [
      "Data in file:  Natural language programming (NLP) is a way of programming using natural human languages, for example, English. Actually, a complete, structured, and unambiguous sentence of human language can be seen\n",
      "\n",
      "\n",
      "Data in file:  Natural language programming (NLP) is a way of programming using natural human languages, for example, English. Actually, a complete, structured, and unambiguous sentence of human language can be seen as a piece of computer programming code. For example, this imperative sentence “Buy some milk from the Whole Food on your way home.” It’s quiet straightforward for human to comprehend that during the process of going “home”, a function “buy” is called at a place named “the Whole Food”, and an object “milk” is the target. However, it’s relatively difficult for a computer to understand the above sentence. What’s “home”? What’s “milk”? What’s “buy”? The computers have no idea about those nouns and verbs. In the field of the Artificial Intelligent(AI), in order to teach the computer to read and understand the human language, researchers have been studying on the natural language processing(communication) for natural language programming for years. \n",
      "In this project, I bring the natural language programming into the physical world by applying it on the Arduino broads (Arduino UNO is focused in this report). This gives us another perspective to look at the natural language programming, and how it is operated in the real world.\n"
     ]
    }
   ],
   "source": [
    "#Read file using standard python library\n",
    "\n",
    "import os\n",
    "#getcwd() returns current working directory of a process\n",
    "with open(os.getcwd()+ \"/testdata.txt\",\"r\",encoding=\"utf8\") as fr:\n",
    "    filedata=fr.read()\n",
    "    \n",
    "# display first few characters\n",
    "print(\"Data in file: \",filedata[0:200])\n",
    "print(\"\\n\")\n",
    "# display entire file data\n",
    "print(\"Data in file: \",filedata)"
   ]
  },
  {
   "cell_type": "markdown",
   "metadata": {},
   "source": [
    "### What is NLTK corpus and how to read files with it?\n",
    "The NLTK corpus is a massive dump of all kinds of natural language data sets.NLTK corpus readers. The modules in this package provide functions that can be used to read corpus files in variety of formats. these functions can be used to read both the corpus files that are distributed in the NLTK corpus package,and corpus files that are part of external corpora.\n",
    "\n",
    "References\n",
    "1.  https://www.nltk.org/data.html\n",
    "2.  http://www.nltk.org/nltk_data/"
   ]
  },
  {
   "cell_type": "code",
   "execution_count": 20,
   "metadata": {},
   "outputs": [
    {
     "name": "stdout",
     "output_type": "stream",
     "text": [
      "Natural language programming (NLP) is a way of programming using natural human languages, for example, English. Actually, a complete, structured, and unambiguous sentence of human language can be seen as a piece of computer programming code. For example, this imperative sentence “Buy some milk from the Whole Food on your way home.” It’s quiet straightforward for human to comprehend that during the process of going “home”, a function “buy” is called at a place named “the Whole Food”, and an object “milk” is the target. However, it’s relatively difficult for a computer to understand the above sentence. What’s “home”? What’s “milk”? What’s “buy”? The computers have no idea about those nouns and verbs. In the field of the Artificial Intelligent(AI), in order to teach the computer to read and understand the human language, researchers have been studying on the natural language processing(communication) for natural language programming for years. \n",
      "In this project, I bring the natural language programming into the physical world by applying it on the Arduino broads (Arduino UNO is focused in this report). This gives us another perspective to look at the natural language programming, and how it is operated in the real world.\n"
     ]
    },
    {
     "name": "stderr",
     "output_type": "stream",
     "text": [
      "[nltk_data] Downloading package punkt to\n",
      "[nltk_data]     C:\\Users\\omkar\\AppData\\Roaming\\nltk_data...\n",
      "[nltk_data]   Package punkt is already up-to-date!\n"
     ]
    }
   ],
   "source": [
    "# Before that install nltk from anaconda prompt using 'pip install nltk'\n",
    "\n",
    "import nltk\n",
    "# download punkt\n",
    "nltk.download('punkt')\n",
    "\n",
    "from nltk.corpus.reader.plaintext import PlaintextCorpusReader\n",
    "\n",
    "corpus=PlaintextCorpusReader(os.getcwd(),\"testdata.txt\")\n",
    "\n",
    "\n",
    "print(corpus.raw())\n"
   ]
  },
  {
   "cell_type": "markdown",
   "metadata": {},
   "source": [
    "## 02 Corpus Operations\n",
    "The corpus library supports a number of functions to extract words,paragraph and sentences from the corpus\n"
   ]
  },
  {
   "cell_type": "code",
   "execution_count": 33,
   "metadata": {},
   "outputs": [
    {
     "name": "stdout",
     "output_type": "stream",
     "text": [
      "['testdata.txt']\n",
      "Total number of paragraphs:  1\n",
      "\n",
      "\n",
      "Total sentences in this paragraph : 11\n",
      "\n",
      "\n",
      "First sentence is : ['Natural', 'language', 'programming', '(', 'NLP', ')', 'is', 'a', 'way', 'of', 'programming', 'using', 'natural', 'human', 'languages', ',', 'for', 'example', ',', 'English', '.']\n",
      "\n",
      "\n",
      "Sentence  1 is : ['Natural', 'language', 'programming', '(', 'NLP', ')', 'is', 'a', 'way', 'of', 'programming', 'using', 'natural', 'human', 'languages', ',', 'for', 'example', ',', 'English', '.']\n",
      "Sentence  2 is : ['Actually', ',', 'a', 'complete', ',', 'structured', ',', 'and', 'unambiguous', 'sentence', 'of', 'human', 'language', 'can', 'be', 'seen', 'as', 'a', 'piece', 'of', 'computer', 'programming', 'code', '.']\n",
      "Sentence  3 is : ['For', 'example', ',', 'this', 'imperative', 'sentence', '“', 'Buy', 'some', 'milk', 'from', 'the', 'Whole', 'Food', 'on', 'your', 'way', 'home', '.”', 'It', '’', 's', 'quiet', 'straightforward', 'for', 'human', 'to', 'comprehend', 'that', 'during', 'the', 'process', 'of', 'going', '“', 'home', '”,', 'a', 'function', '“', 'buy', '”', 'is', 'called', 'at', 'a', 'place', 'named', '“', 'the', 'Whole', 'Food', '”,', 'and', 'an', 'object', '“', 'milk', '”', 'is', 'the', 'target', '.']\n",
      "Sentence  4 is : ['However', ',', 'it', '’', 's', 'relatively', 'difficult', 'for', 'a', 'computer', 'to', 'understand', 'the', 'above', 'sentence', '.']\n",
      "Sentence  5 is : ['What', '’', 's', '“', 'home', '”?']\n",
      "Sentence  6 is : ['What', '’', 's', '“', 'milk', '”?']\n",
      "Sentence  7 is : ['What', '’', 's', '“', 'buy', '”?']\n",
      "Sentence  8 is : ['The', 'computers', 'have', 'no', 'idea', 'about', 'those', 'nouns', 'and', 'verbs', '.']\n",
      "Sentence  9 is : ['In', 'the', 'field', 'of', 'the', 'Artificial', 'Intelligent', '(', 'AI', '),', 'in', 'order', 'to', 'teach', 'the', 'computer', 'to', 'read', 'and', 'understand', 'the', 'human', 'language', ',', 'researchers', 'have', 'been', 'studying', 'on', 'the', 'natural', 'language', 'processing', '(', 'communication', ')', 'for', 'natural', 'language', 'programming', 'for', 'years', '.']\n",
      "Sentence  10 is : ['In', 'this', 'project', ',', 'I', 'bring', 'the', 'natural', 'language', 'programming', 'into', 'the', 'physical', 'world', 'by', 'applying', 'it', 'on', 'the', 'Arduino', 'broads', '(', 'Arduino', 'UNO', 'is', 'focused', 'in', 'this', 'report', ').']\n",
      "Sentence  11 is : ['This', 'gives', 'us', 'another', 'perspective', 'to', 'look', 'at', 'the', 'natural', 'language', 'programming', ',', 'and', 'how', 'it', 'is', 'operated', 'in', 'the', 'real', 'world', '.']\n",
      "\n",
      "\n",
      "Words in corpus : ['Natural', 'language', 'programming', '(', 'NLP', ')', ...]\n",
      "Total Words in corpus : 249\n",
      "\n",
      "\n"
     ]
    }
   ],
   "source": [
    "# Extract file ID's from corpus\n",
    "\n",
    "print(corpus.fileids())  # here we are using single file \n",
    "\n",
    "# Extract Paragraph from corpus\n",
    "paragraph = corpus.paras()\n",
    "print(\"Total number of paragraphs: \",len(paragraph))\n",
    "\n",
    "print(\"\\n\")\n",
    "\n",
    "# Extract Sentences from corpus\n",
    "sentences=corpus.sents()\n",
    "print(\"Total sentences in this paragraph :\",len(sentences))\n",
    "\n",
    "print(\"\\n\")\n",
    "\n",
    "print(\"First sentence is :\",sentences[0])\n",
    "\n",
    "print(\"\\n\")\n",
    "\n",
    "for i in range(len(sentences)):\n",
    "    print(\"Sentence \",i+1,\"is :\",sentences[i])\n",
    "    \n",
    "\n",
    "print(\"\\n\")\n",
    "\n",
    "#Extract words from the corpus\n",
    "print(\"Words in corpus :\",corpus.words())\n",
    "print(\"Total Words in corpus :\",len(corpus.words()))\n",
    "\n",
    "print(\"\\n\")\n",
    "word=corpus.words()\n",
    "\n",
    "# for i in range(len(word)):\n",
    "#     print(\"word \",i+1,\" is :\",word[i])\n",
    "\n",
    "\n"
   ]
  },
  {
   "cell_type": "markdown",
   "metadata": {},
   "source": [
    "## 03 Analysis of Corpus \n",
    "The NLTK library provides a number of functions to analyze the distribution and aggregates for data in the corpus."
   ]
  },
  {
   "cell_type": "code",
   "execution_count": 38,
   "metadata": {},
   "outputs": [
    {
     "name": "stdout",
     "output_type": "stream",
     "text": [
      "Top 10 popular words in corpus : [('the', 15), (',', 10), ('“', 8), ('language', 7), ('.', 7), ('programming', 6), ('a', 6), ('is', 5), ('of', 5), ('natural', 5)]\n",
      "\n",
      "\n",
      "Distribution of word 'natural' in corpus : 5\n"
     ]
    }
   ],
   "source": [
    "# we use frequency distributuion method to analyze distribution of words in the corpus\n",
    "freq_dist = nltk.FreqDist(corpus.words())\n",
    "\n",
    "# top 10 popular or common words in corpus\n",
    "print(\"Top 10 popular words in corpus :\",freq_dist.most_common(10))\n",
    "print(\"\\n\")\n",
    "\n",
    "# find the specific word distribution in corpus\n",
    "print(\"Distribution of word 'natural' in corpus :\",freq_dist.get(\"natural\"))\n",
    "\n"
   ]
  },
  {
   "cell_type": "markdown",
   "metadata": {},
   "source": [
    "## 04 Pre-Processing of Data (Text Cleansing and Extraction )"
   ]
  },
  {
   "cell_type": "markdown",
   "metadata": {},
   "source": [
    "### Text Tokenization\n",
    "The process of breaking a stream of textual content: words,terms,symbols,or other meaningful elements. Tokenization refers to converting a text string into individual tokens Tokens may be words or punctations."
   ]
  },
  {
   "cell_type": "code",
   "execution_count": 48,
   "metadata": {},
   "outputs": [
    {
     "name": "stdout",
     "output_type": "stream",
     "text": [
      "Number of Token  :  256\n",
      "\n",
      "\n",
      "Token list :  ['Natural', 'language', 'programming', '(', 'NLP', ')', 'is', 'a', 'way', 'of', 'programming', 'using', 'natural', 'human', 'languages', ',', 'for', 'example', ',', 'English', '.', 'Actually', ',', 'a', 'complete', ',', 'structured', ',', 'and', 'unambiguous', 'sentence', 'of', 'human', 'language', 'can', 'be', 'seen', 'as', 'a', 'piece', 'of', 'computer', 'programming', 'code', '.', 'For', 'example', ',', 'this', 'imperative', 'sentence', '“', 'Buy', 'some', 'milk', 'from', 'the', 'Whole', 'Food', 'on', 'your', 'way', 'home.', '”', 'It', '’', 's', 'quiet', 'straightforward', 'for', 'human', 'to', 'comprehend', 'that', 'during', 'the', 'process', 'of', 'going', '“', 'home', '”', ',', 'a', 'function', '“', 'buy', '”', 'is', 'called', 'at', 'a', 'place', 'named', '“', 'the', 'Whole', 'Food', '”', ',', 'and', 'an', 'object', '“', 'milk', '”', 'is', 'the', 'target', '.', 'However', ',', 'it', '’', 's', 'relatively', 'difficult', 'for', 'a', 'computer', 'to', 'understand', 'the', 'above', 'sentence', '.', 'What', '’', 's', '“', 'home', '”', '?', 'What', '’', 's', '“', 'milk', '”', '?', 'What', '’', 's', '“', 'buy', '”', '?', 'The', 'computers', 'have', 'no', 'idea', 'about', 'those', 'nouns', 'and', 'verbs', '.', 'In', 'the', 'field', 'of', 'the', 'Artificial', 'Intelligent', '(', 'AI', ')', ',', 'in', 'order', 'to', 'teach', 'the', 'computer', 'to', 'read', 'and', 'understand', 'the', 'human', 'language', ',', 'researchers', 'have', 'been', 'studying', 'on', 'the', 'natural', 'language', 'processing', '(', 'communication', ')', 'for', 'natural', 'language', 'programming', 'for', 'years', '.', 'In', 'this', 'project', ',', 'I', 'bring', 'the', 'natural', 'language', 'programming', 'into', 'the', 'physical', 'world', 'by', 'applying', 'it', 'on', 'the', 'Arduino', 'broads', '(', 'Arduino', 'UNO', 'is', 'focused', 'in', 'this', 'report', ')', '.', 'This', 'gives', 'us', 'another', 'perspective', 'to', 'look', 'at', 'the', 'natural', 'language', 'programming', ',', 'and', 'how', 'it', 'is', 'operated', 'in', 'the', 'real', 'world', '.']\n",
      "\n",
      "\n",
      "20 Token list :  ['Natural', 'language', 'programming', '(', 'NLP', ')', 'is', 'a', 'way', 'of', 'programming', 'using', 'natural', 'human', 'languages', ',', 'for', 'example', ',', 'English']\n"
     ]
    }
   ],
   "source": [
    "import nltk\n",
    "import os\n",
    "\n",
    "# reading file \n",
    "file = open(os.getcwd()+\"/testdata.txt\",'rt',encoding=\"utf8\")\n",
    "text=file.read()\n",
    "file.close()\n",
    "\n",
    "# extract tokens\n",
    "token_list=nltk.word_tokenize(text)\n",
    "print(\"Number of Token  : \",len(token_list))\n",
    "print(\"\\n\")\n",
    "print(\"Token list : \",token_list)\n",
    "print(\"\\n\")\n",
    "print(\"20 Token list : \",token_list[:20])"
   ]
  },
  {
   "cell_type": "markdown",
   "metadata": {},
   "source": [
    "### Text Cleansing\n",
    "We have to remove following things while cleansing text.\n",
    "\n",
    "1. Formatting and standardization (for eg: dates)\n",
    "2. Remove punctuation\n",
    "3. Remove abbrevations\n",
    "4. Case conversion\n",
    "5. Remove elements like hastags.\n",
    "6. Remove URL\n",
    "7. Convert to lower case\n",
    "\n",
    "\n"
   ]
  },
  {
   "cell_type": "code",
   "execution_count": 53,
   "metadata": {},
   "outputs": [
    {
     "name": "stdout",
     "output_type": "stream",
     "text": [
      "first 20 Token list after removing punctuation :  ['Natural', 'language', 'programming', 'NLP', 'is', 'a', 'way', 'of', 'programming', 'using', 'natural', 'human', 'languages', 'for', 'example', 'English', 'Actually', 'a', 'complete', 'structured']\n",
      "\n",
      "\n",
      "Token list after removing punctuation :  ['Natural', 'language', 'programming', 'NLP', 'is', 'a', 'way', 'of', 'programming', 'using', 'natural', 'human', 'languages', 'for', 'example', 'English', 'Actually', 'a', 'complete', 'structured', 'and', 'unambiguous', 'sentence', 'of', 'human', 'language', 'can', 'be', 'seen', 'as', 'a', 'piece', 'of', 'computer', 'programming', 'code', 'For', 'example', 'this', 'imperative', 'sentence', 'Buy', 'some', 'milk', 'from', 'the', 'Whole', 'Food', 'on', 'your', 'way', 'home.', 'It', 's', 'quiet', 'straightforward', 'for', 'human', 'to', 'comprehend', 'that', 'during', 'the', 'process', 'of', 'going', 'home', 'a', 'function', 'buy', 'is', 'called', 'at', 'a', 'place', 'named', 'the', 'Whole', 'Food', 'and', 'an', 'object', 'milk', 'is', 'the', 'target', 'However', 'it', 's', 'relatively', 'difficult', 'for', 'a', 'computer', 'to', 'understand', 'the', 'above', 'sentence', 'What', 's', 'home', 'What', 's', 'milk', 'What', 's', 'buy', 'The', 'computers', 'have', 'no', 'idea', 'about', 'those', 'nouns', 'and', 'verbs', 'In', 'the', 'field', 'of', 'the', 'Artificial', 'Intelligent', 'AI', 'in', 'order', 'to', 'teach', 'the', 'computer', 'to', 'read', 'and', 'understand', 'the', 'human', 'language', 'researchers', 'have', 'been', 'studying', 'on', 'the', 'natural', 'language', 'processing', 'communication', 'for', 'natural', 'language', 'programming', 'for', 'years', 'In', 'this', 'project', 'I', 'bring', 'the', 'natural', 'language', 'programming', 'into', 'the', 'physical', 'world', 'by', 'applying', 'it', 'on', 'the', 'Arduino', 'broads', 'Arduino', 'UNO', 'is', 'focused', 'in', 'this', 'report', 'This', 'gives', 'us', 'another', 'perspective', 'to', 'look', 'at', 'the', 'natural', 'language', 'programming', 'and', 'how', 'it', 'is', 'operated', 'in', 'the', 'real', 'world']\n",
      "\n",
      "\n",
      "Total tokens after removing punctuation :  203\n"
     ]
    }
   ],
   "source": [
    "# Removing punctuation\n",
    "token_list1=list(filter(lambda token:nltk.tokenize.punkt.PunktToken(token).is_non_punct,token_list))\n",
    "print(\"first 20 Token list after removing punctuation : \",token_list1[:20]) \n",
    "print(\"\\n\")\n",
    "print(\"Token list after removing punctuation : \",token_list1)\n",
    "print(\"\\n\")\n",
    "print(\"Total tokens after removing punctuation : \",len(token_list1))\n",
    "# we will see reduction in token size after removal of punctuation"
   ]
  },
  {
   "cell_type": "code",
   "execution_count": 54,
   "metadata": {},
   "outputs": [
    {
     "name": "stdout",
     "output_type": "stream",
     "text": [
      "first 20 Token list after removing punctuation :  ['natural', 'language', 'programming', 'nlp', 'is', 'a', 'way', 'of', 'programming', 'using', 'natural', 'human', 'languages', 'for', 'example', 'english', 'actually', 'a', 'complete', 'structured']\n",
      "\n",
      "\n",
      "Token list after applying lower case :  ['natural', 'language', 'programming', 'nlp', 'is', 'a', 'way', 'of', 'programming', 'using', 'natural', 'human', 'languages', 'for', 'example', 'english', 'actually', 'a', 'complete', 'structured', 'and', 'unambiguous', 'sentence', 'of', 'human', 'language', 'can', 'be', 'seen', 'as', 'a', 'piece', 'of', 'computer', 'programming', 'code', 'for', 'example', 'this', 'imperative', 'sentence', 'buy', 'some', 'milk', 'from', 'the', 'whole', 'food', 'on', 'your', 'way', 'home.', 'it', 's', 'quiet', 'straightforward', 'for', 'human', 'to', 'comprehend', 'that', 'during', 'the', 'process', 'of', 'going', 'home', 'a', 'function', 'buy', 'is', 'called', 'at', 'a', 'place', 'named', 'the', 'whole', 'food', 'and', 'an', 'object', 'milk', 'is', 'the', 'target', 'however', 'it', 's', 'relatively', 'difficult', 'for', 'a', 'computer', 'to', 'understand', 'the', 'above', 'sentence', 'what', 's', 'home', 'what', 's', 'milk', 'what', 's', 'buy', 'the', 'computers', 'have', 'no', 'idea', 'about', 'those', 'nouns', 'and', 'verbs', 'in', 'the', 'field', 'of', 'the', 'artificial', 'intelligent', 'ai', 'in', 'order', 'to', 'teach', 'the', 'computer', 'to', 'read', 'and', 'understand', 'the', 'human', 'language', 'researchers', 'have', 'been', 'studying', 'on', 'the', 'natural', 'language', 'processing', 'communication', 'for', 'natural', 'language', 'programming', 'for', 'years', 'in', 'this', 'project', 'i', 'bring', 'the', 'natural', 'language', 'programming', 'into', 'the', 'physical', 'world', 'by', 'applying', 'it', 'on', 'the', 'arduino', 'broads', 'arduino', 'uno', 'is', 'focused', 'in', 'this', 'report', 'this', 'gives', 'us', 'another', 'perspective', 'to', 'look', 'at', 'the', 'natural', 'language', 'programming', 'and', 'how', 'it', 'is', 'operated', 'in', 'the', 'real', 'world']\n",
      "\n",
      "\n",
      "Total tokens after applying lower case :  203\n"
     ]
    }
   ],
   "source": [
    "token_list2 = [word.lower() for word in token_list1]\n",
    "print(\"first 20 Token list after removing punctuation : \",token_list2[:20]) \n",
    "print(\"\\n\")\n",
    "print(\"Token list after applying lower case : \",token_list2)\n",
    "print(\"\\n\")\n",
    "print(\"Total tokens after applying lower case : \",len(token_list2))"
   ]
  },
  {
   "cell_type": "markdown",
   "metadata": {},
   "source": [
    "### Stop Word Removal\n",
    "These words do not carry any insight hence they are removed. They are group of words that carry no meaning by themselves.\n",
    "* for eg: in,a,and,the,which\n",
    "* they are not required for analytics so these words are removed.\n",
    "* A standard or custom stop-word dictionary can be used to identify and remove stop words."
   ]
  },
  {
   "cell_type": "code",
   "execution_count": 91,
   "metadata": {},
   "outputs": [
    {
     "name": "stdout",
     "output_type": "stream",
     "text": [
      "first 20 Token list after removing stop words :  ['natural', 'language', 'programming', 'nlp', 'way', 'programming', 'using', 'natural', 'human', 'languages', 'example', 'english', 'actually', 'complete', 'structured', 'unambiguous', 'sentence', 'human', 'language', 'seen']\n",
      "\n",
      "\n",
      "Token list after after removing stop words  :  ['natural', 'language', 'programming', 'nlp', 'way', 'programming', 'using', 'natural', 'human', 'languages', 'example', 'english', 'actually', 'complete', 'structured', 'unambiguous', 'sentence', 'human', 'language', 'seen', 'piece', 'computer', 'programming', 'code', 'example', 'imperative', 'sentence', 'buy', 'milk', 'whole', 'food', 'way', 'home.', 'quiet', 'straightforward', 'human', 'comprehend', 'process', 'going', 'home', 'function', 'buy', 'called', 'place', 'named', 'whole', 'food', 'object', 'milk', 'target', 'however', 'relatively', 'difficult', 'computer', 'understand', 'sentence', 'home', 'milk', 'buy', 'computers', 'idea', 'nouns', 'verbs', 'field', 'artificial', 'intelligent', 'ai', 'order', 'teach', 'computer', 'read', 'understand', 'human', 'language', 'researchers', 'studying', 'natural', 'language', 'processing', 'communication', 'natural', 'language', 'programming', 'years', 'project', 'bring', 'natural', 'language', 'programming', 'physical', 'world', 'applying', 'arduino', 'broads', 'arduino', 'uno', 'focused', 'report', 'gives', 'us', 'another', 'perspective', 'look', 'natural', 'language', 'programming', 'operated', 'real', 'world']\n",
      "\n",
      "\n",
      "Total tokens after removing stop words  :  109\n"
     ]
    },
    {
     "name": "stderr",
     "output_type": "stream",
     "text": [
      "[nltk_data] Downloading package stopwords to\n",
      "[nltk_data]     C:\\Users\\omkar\\AppData\\Roaming\\nltk_data...\n",
      "[nltk_data]   Package stopwords is already up-to-date!\n"
     ]
    }
   ],
   "source": [
    "#download the standard stop words list\n",
    "nltk.download('stopwords')\n",
    "from nltk.corpus import stopwords\n",
    "\n",
    "# Remove stop words\n",
    "token_list3 = list(filter(lambda token: token not in stopwords.words('english'),token_list2))\n",
    "\n",
    "print(\"first 20 Token list after removing stop words : \",token_list3[:20]) \n",
    "print(\"\\n\")\n",
    "print(\"Token list after after removing stop words  : \",token_list3)\n",
    "print(\"\\n\")\n",
    "print(\"Total tokens after removing stop words  : \",len(token_list3))\n",
    "# we will see reduction in token size after removal of stop words"
   ]
  },
  {
   "cell_type": "markdown",
   "metadata": {},
   "source": [
    "## 05 Text Mining\n",
    "\n",
    "Text mining, also referred to as text data mining, similar to text analytics, is the process of deriving high-quality information from text. It involves \"the discovery by computer of new, previously unknown information, by automatically extracting information from different written resources"
   ]
  },
  {
   "cell_type": "markdown",
   "metadata": {},
   "source": [
    "### Stemming\n",
    "\n",
    "A stem is the base part of the word, to which affixes can be attached for derivatives.This process converts word into stem.\n",
    "So stemming keeps only base word,thus reducing the total words in the corpus.\n",
    "* for eg: \"combin\" is stem word for combine,combining,combined.\n",
    "* stemming simply cuts off the affix and may not be a complete word.\n"
   ]
  },
  {
   "cell_type": "code",
   "execution_count": 62,
   "metadata": {},
   "outputs": [
    {
     "name": "stdout",
     "output_type": "stream",
     "text": [
      "first 20 Token list after stemming :  ['natur', 'languag', 'program', 'nlp', 'way', 'program', 'use', 'natur', 'human', 'languag', 'exampl', 'english', 'actual', 'complet', 'structur', 'unambigu', 'sentenc', 'human', 'languag', 'seen']\n",
      "\n",
      "\n",
      "Token list after stemming  :  ['natur', 'languag', 'program', 'nlp', 'way', 'program', 'use', 'natur', 'human', 'languag', 'exampl', 'english', 'actual', 'complet', 'structur', 'unambigu', 'sentenc', 'human', 'languag', 'seen', 'piec', 'comput', 'program', 'code', 'exampl', 'imper', 'sentenc', 'buy', 'milk', 'whole', 'food', 'way', 'home.', 'quiet', 'straightforward', 'human', 'comprehend', 'process', 'go', 'home', 'function', 'buy', 'call', 'place', 'name', 'whole', 'food', 'object', 'milk', 'target', 'howev', 'rel', 'difficult', 'comput', 'understand', 'sentenc', 'home', 'milk', 'buy', 'comput', 'idea', 'noun', 'verb', 'field', 'artifici', 'intellig', 'ai', 'order', 'teach', 'comput', 'read', 'understand', 'human', 'languag', 'research', 'studi', 'natur', 'languag', 'process', 'commun', 'natur', 'languag', 'program', 'year', 'project', 'bring', 'natur', 'languag', 'program', 'physic', 'world', 'appli', 'arduino', 'broad', 'arduino', 'uno', 'focus', 'report', 'give', 'us', 'anoth', 'perspect', 'look', 'natur', 'languag', 'program', 'oper', 'real', 'world']\n",
      "\n",
      "\n",
      "Total tokens after stemming  :  109\n"
     ]
    }
   ],
   "source": [
    "# i will use PorterStemmer libarary for stemming.\n",
    "from nltk.stem import PorterStemmer\n",
    "stemmer = PorterStemmer()\n",
    "token_list4 = [stemmer.stem(word) for word in token_list3]\n",
    "\n",
    "print(\"first 20 Token list after stemming : \",token_list4[:20]) \n",
    "print(\"\\n\")\n",
    "print(\"Token list after stemming  : \",token_list4)\n",
    "print(\"\\n\")\n",
    "print(\"Total tokens after stemming  : \",len(token_list4))\n",
    "\n"
   ]
  },
  {
   "cell_type": "markdown",
   "metadata": {},
   "source": [
    "### Lemmatization\n",
    "\n",
    "It is similar to stemming,but produces a proper root word that belongs to the language.\n",
    "\n",
    "* for eg: \"combine\" is the lemmetized version of combine,combined and combining\n",
    "* lemmatization uses dictionary to match words to their root word.\n"
   ]
  },
  {
   "cell_type": "code",
   "execution_count": 81,
   "metadata": {},
   "outputs": [
    {
     "name": "stdout",
     "output_type": "stream",
     "text": [
      "first 20 Token list after lemmatization :  ['natural', 'language', 'programming', 'nlp', 'way', 'programming', 'using', 'natural', 'human', 'language', 'example', 'english', 'actually', 'complete', 'structured', 'unambiguous', 'sentence', 'human', 'language', 'seen']\n",
      "\n",
      "\n",
      "Token list after lemmatization  :  ['natural', 'language', 'programming', 'nlp', 'way', 'programming', 'using', 'natural', 'human', 'language', 'example', 'english', 'actually', 'complete', 'structured', 'unambiguous', 'sentence', 'human', 'language', 'seen', 'piece', 'computer', 'programming', 'code', 'example', 'imperative', 'sentence', 'buy', 'milk', 'whole', 'food', 'way', 'home.', 'quiet', 'straightforward', 'human', 'comprehend', 'process', 'going', 'home', 'function', 'buy', 'called', 'place', 'named', 'whole', 'food', 'object', 'milk', 'target', 'however', 'relatively', 'difficult', 'computer', 'understand', 'sentence', 'home', 'milk', 'buy', 'computer', 'idea', 'noun', 'verb', 'field', 'artificial', 'intelligent', 'ai', 'order', 'teach', 'computer', 'read', 'understand', 'human', 'language', 'researcher', 'studying', 'natural', 'language', 'processing', 'communication', 'natural', 'language', 'programming', 'year', 'project', 'bring', 'natural', 'language', 'programming', 'physical', 'world', 'applying', 'arduino', 'broad', 'arduino', 'uno', 'focused', 'report', 'give', 'u', 'another', 'perspective', 'look', 'natural', 'language', 'programming', 'operated', 'real', 'world']\n",
      "\n",
      "\n",
      "Total tokens after lemmatization  :  109\n"
     ]
    },
    {
     "name": "stderr",
     "output_type": "stream",
     "text": [
      "[nltk_data] Downloading package wordnet to\n",
      "[nltk_data]     C:\\Users\\omkar\\AppData\\Roaming\\nltk_data...\n",
      "[nltk_data]   Package wordnet is already up-to-date!\n"
     ]
    }
   ],
   "source": [
    "# we can use wordnet library to map words to their lemmatized form\n",
    "\n",
    "nltk.download('wordnet')\n",
    "from nltk.stem import WordNetLemmatizer\n",
    "\n",
    "lemmatizer = WordNetLemmatizer() \n",
    "#note that we are using token_list3 (output list from removal of stopwords)\n",
    "token_list5=[lemmatizer.lemmatize(word) for word in token_list3] \n",
    "\n",
    "print(\"first 20 Token list after lemmatization : \",token_list5[:20]) \n",
    "print(\"\\n\")\n",
    "print(\"Token list after lemmatization  : \",token_list5)\n",
    "print(\"\\n\")\n",
    "print(\"Total tokens after lemmatization  : \",len(token_list5))"
   ]
  },
  {
   "cell_type": "markdown",
   "metadata": {},
   "source": [
    "## Comparsion between original word,stemmed and lemmatized word"
   ]
  },
  {
   "cell_type": "code",
   "execution_count": 71,
   "metadata": {},
   "outputs": [
    {
     "name": "stdout",
     "output_type": "stream",
     "text": [
      "Original word :  natural  ,Stemmed Word :  natur  ,Lemmatized Word :  natural\n"
     ]
    }
   ],
   "source": [
    "print(\"Original word : \",token_list3[0],\" ,Stemmed Word : \",token_list4[0],\" ,Lemmatized Word : \",token_list5[0])"
   ]
  },
  {
   "cell_type": "markdown",
   "metadata": {},
   "source": [
    "# 06 Text Processing Technique's (Text Mining)"
   ]
  },
  {
   "cell_type": "markdown",
   "metadata": {},
   "source": [
    "## N-Grams\n",
    "\n",
    "N-grams is a sequence of n items in a sample of text . it can called as Bigrams,Trigrams,Four Grams and so on.\n",
    "n grams are used for buidling predective text systems that predict next squence of words.\n",
    "\n",
    "* eg : Cats are favorite pets\n",
    "* Bigrams: (Cats , are),(are,favorite),(favorite,pets)\n",
    "* Trigrams : (Cats,are,favorite),(are,favorite,pets)"
   ]
  },
  {
   "cell_type": "code",
   "execution_count": 77,
   "metadata": {},
   "outputs": [
    {
     "name": "stdout",
     "output_type": "stream",
     "text": [
      "Most 5 common bigrams :\n",
      "[(('natural', 'language'), 5), (('language', 'programming'), 4), (('human', 'language'), 3), (('whole', 'food'), 2), (('programming', 'nlp'), 1)]\n",
      "Most 5 common trigrams :\n",
      "[(('natural', 'language', 'programming'), 4), (('language', 'programming', 'nlp'), 1), (('programming', 'nlp', 'way'), 1), (('nlp', 'way', 'programming'), 1), (('way', 'programming', 'using'), 1)]\n"
     ]
    }
   ],
   "source": [
    "from nltk.util import ngrams\n",
    "from collections import Counter\n",
    "\n",
    "\n",
    "# find bigrams and first 5 most common \n",
    "\n",
    "bigrams=ngrams(token_list5,2)\n",
    "print(\"Most 5 common bigrams :\")\n",
    "print(Counter(bigrams).most_common(5))\n",
    "\n",
    "# find trigrams and first 5 most common \n",
    "\n",
    "bigrams=ngrams(token_list5,3)\n",
    "print(\"Most 5 common trigrams :\")\n",
    "print(Counter(bigrams).most_common(5))\n"
   ]
  },
  {
   "cell_type": "markdown",
   "metadata": {},
   "source": [
    "## Parts Of Speech Tagging (POS)"
   ]
  },
  {
   "cell_type": "markdown",
   "metadata": {},
   "source": [
    "* POS tagging involves identifying the part of speech for each word in a corpus.\n",
    "* It used for entity recognition,filtering and sentiment analysis.\n",
    "* eg : Word - Man , POS- NN , for Noun\n",
    "* eg : Word - Engage , POS - VBP,for Verb\n",
    "* eg : Word - Top,POS-JJ , Adjective\n",
    "\n",
    "References:\n",
    "* Tagging List https://www.guru99.com/pos-tagging-chunking-nltk.html"
   ]
  },
  {
   "cell_type": "code",
   "execution_count": 84,
   "metadata": {},
   "outputs": [
    {
     "name": "stderr",
     "output_type": "stream",
     "text": [
      "[nltk_data] Downloading package averaged_perceptron_tagger to\n",
      "[nltk_data]     C:\\Users\\omkar\\AppData\\Roaming\\nltk_data...\n",
      "[nltk_data]   Package averaged_perceptron_tagger is already up-to-\n",
      "[nltk_data]       date!\n"
     ]
    },
    {
     "data": {
      "text/plain": [
       "[('natural', 'JJ'),\n",
       " ('language', 'NN'),\n",
       " ('programming', 'VBG'),\n",
       " ('nlp', 'JJ'),\n",
       " ('way', 'NN'),\n",
       " ('programming', 'VBG'),\n",
       " ('using', 'VBG'),\n",
       " ('natural', 'JJ'),\n",
       " ('human', 'JJ'),\n",
       " ('language', 'NN')]"
      ]
     },
     "execution_count": 84,
     "metadata": {},
     "output_type": "execute_result"
    }
   ],
   "source": [
    "#download the tagger package\n",
    "import nltk\n",
    "nltk.download('averaged_perceptron_tagger')\n",
    "#first 10 \n",
    "nltk.pos_tag(token_list5)[:10]\n",
    "# nltk.pos_tag(token_list5)"
   ]
  },
  {
   "cell_type": "markdown",
   "metadata": {},
   "source": [
    "## Term frequency - Inverse document frequency (TF-IDF)"
   ]
  },
  {
   "attachments": {},
   "cell_type": "markdown",
   "metadata": {},
   "source": [
    "\n",
    "* most of ML models need a numeric representation of text.\n",
    "* TF-IDF is used to convert text into a numeric table representation.\n",
    "* TF-IDF output is a table where rows represent documents and columns represent words.\n",
    "* Each cell provides a count/value that indicates the strength of word with respect to the document.\n",
    "\n"
   ]
  },
  {
   "attachments": {
    "image-2.png": {
     "image/png": "[encoded data removed]"
    },
    "image-3.png": {
     "image/png": "[encoded data removed]"
    },
    "image-5.png": {
     "image/png": "[encoded data removed]"
    },
    "image-6.png": {
     "image/png": "[encoded data removed]"
    }
   },
   "cell_type": "markdown",
   "metadata": {},
   "source": [
    "## Algorithm:\n",
    "1. Orginal documents\n",
    "* Doc 1 = \"This is a sampling of good words\"\n",
    "* Doc 2 = \"He said again and again the same word after word\"\n",
    "* Doc 3 = \"Words can really hurt\"\n",
    "2. After Text cleansing\n",
    "* Doc 1 = \"sample good words\"\n",
    "* Doc 2 = \"again again same word word\"\n",
    "* Doc 3 = \"word really hurt\"\n",
    "3. create count table (Number times word appeared). \n",
    "![image-2.png](attachment:image-2.png)\n",
    "4. Create Text frequency table (TF). divide each count in table by total number of words eg: 1/3=0.33\n",
    "![image-3.png](attachment:image-3.png)\n",
    "5. We find inverse document frequency table. (IDF)\n",
    "log e (Total docs/docs with words). This find unique and prevalent word in document.\n",
    "![image-5.png](attachment:image-5.png)\n",
    "6. TF-IDF = TF * IDF (multiply step 4 and step 5)\n",
    "![image-6.png](attachment:image-6.png)\n",
    "\n",
    "\n",
    "References:\n",
    "1. https://www.geeksforgeeks.org/understanding-tf-idf-term-frequency-inverse-document-frequency/\n",
    "2. https://www.onely.com/blog/what-is-tf-idf/\n",
    "3. https://towardsdatascience.com/text-summarization-using-tf-idf-e64a0644ace3"
   ]
  },
  {
   "cell_type": "code",
   "execution_count": 97,
   "metadata": {},
   "outputs": [
    {
     "name": "stdout",
     "output_type": "stream",
     "text": [
      "Tokens used as features are :\n",
      "['board', 'cricket', 'icc', 'india', 'popular', 'telecast', 'tv']\n",
      "\n",
      " size of array. Each row represents a document. Each column represents a feature/token\n",
      "(3, 7)\n",
      "\n",
      " TF-IDF array\n"
     ]
    },
    {
     "data": {
      "text/plain": [
       "array([[0.65249088, 0.38537163, 0.65249088, 0.        , 0.        ,\n",
       "        0.        , 0.        ],\n",
       "       [0.        , 0.42544054, 0.        , 0.54783215, 0.72033345,\n",
       "        0.        , 0.        ],\n",
       "       [0.        , 0.34520502, 0.        , 0.44451431, 0.        ,\n",
       "        0.5844829 , 0.5844829 ]])"
      ]
     },
     "execution_count": 97,
     "metadata": {},
     "output_type": "execute_result"
    }
   ],
   "source": [
    "# TF-IDF fuctionality is not supported by NLTK library so we have to use scikit learn libarry\n",
    "import nltk\n",
    "from sklearn.feature_extraction.text import TfidfVectorizer\n",
    "import pandas as pd\n",
    "\n",
    "\n",
    "#corpus declaration\n",
    "vector_corpus = [\n",
    "    'ICC is a Cricket Board.',\n",
    "    'Cricket is popular in India.',\n",
    "    'TV in India telecast Cricket.'\n",
    "]\n",
    "\n",
    "# vector_corpus = [\n",
    "#     'This is a sampling of good words.',\n",
    "#     'He said again and again the same word after word.',\n",
    "#     'Words can really hurt.'\n",
    "# ]\n",
    "\n",
    "\n",
    "# creating vectorizer for english language\n",
    "vectorizer = TfidfVectorizer(stop_words='english')\n",
    "\n",
    "# create the vector \n",
    "tfidf=vectorizer.fit_transform(vector_corpus)\n",
    "\n",
    "#tokens\n",
    "print(\"Tokens used as features are :\")\n",
    "print(vectorizer.get_feature_names())\n",
    "\n",
    "print(\"\\n size of array. Each row represents a document. Each column represents a feature/token\")\n",
    "print(tfidf.shape)\n",
    "\n",
    "print(\"\\n TF-IDF array\")\n",
    "tfidf.toarray()"
   ]
  },
  {
   "cell_type": "markdown",
   "metadata": {},
   "source": [
    "\n",
    " ## 07 Storing Text Data\n",
    "* We must use suitable free-format big data storage for text.\n",
    "* eg : HDFS,S3 or Google Cloud\n",
    "* Create indexes on key data elements for easy access.\n",
    "* MongoDB\n",
    "* Elasticsearch\n",
    "* store processed text like tokens and TF-IDF\n",
    " ## Processing Text Data\n",
    "* Filter text as early as possible in the processing cycle.\n",
    "* use an exhaustive and context-specific stop word list\n",
    "* identify domain specific data for special use.\n",
    "* Eliminate data with low frequency.\n",
    "* Build a clean and indexed corpus.\n",
    " ## Scalable Processing\n",
    "* Use technologies that allow paralle access and storage\n",
    "* Kafka,HDFS,MongoDB and so on.\n",
    "* process each document independtly with map() functions(in hadoop or apache spark)\n",
    "* use reduce() functions later in the processing cycle."
   ]
  },
  {
   "cell_type": "markdown",
   "metadata": {},
   "source": [
    "### - Made By Omkar Rane"
   ]
  }
 ],
 "metadata": {
  "kernelspec": {
   "display_name": "Python 3",
   "language": "python",
   "name": "python3"
  },
  "language_info": {
   "codemirror_mode": {
    "name": "ipython",
    "version": 3
   },
   "file_extension": ".py",
   "mimetype": "text/x-python",
   "name": "python",
   "nbconvert_exporter": "python",
   "pygments_lexer": "ipython3",
   "version": "3.8.5"
  }
 },
 "nbformat": 4,
 "nbformat_minor": 4
}
